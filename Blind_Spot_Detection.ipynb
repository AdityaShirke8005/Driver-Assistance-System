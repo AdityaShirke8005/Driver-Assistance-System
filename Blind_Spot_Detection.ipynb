{
  "cells": [
    {
      "attachments": {},
      "cell_type": "markdown",
      "metadata": {
        "id": "kI5btVyAIuV3"
      },
      "source": [
        "## **Blind spot monitoring system for a driver assistance system.**"
      ]
    },
    {
      "cell_type": "code",
      "execution_count": null,
      "metadata": {
        "id": "eo8RPdnSHqmC"
      },
      "outputs": [],
      "source": [
        "import cv2\n",
        "\n",
        "# Load the camera\n",
        "cap = cv2.VideoCapture(0)\n",
        "\n",
        "while True:\n",
        "    # Capture frame-by-frame\n",
        "    ret, frame = cap.read()\n",
        "\n",
        "    # Convert frame to grayscale\n",
        "    gray = cv2.cvtColor(frame, cv2.COLOR_BGR2GRAY)\n",
        "\n",
        "    # Define the region of interest (ROI) for the blind spot\n",
        "    roi = frame[200:400, 600:800]\n",
        "\n",
        "    # Use the Canny edge detection algorithm to detect edges in the ROI\n",
        "    edges = cv2.Canny(roi, 100, 200)\n",
        "\n",
        "    # Count the number of edges in the ROI\n",
        "    edge_count = cv2.countNonZero(edges)\n",
        "\n",
        "    # If the number of edges is above a threshold, change color of ROI to red\n",
        "    if edge_count > 50:\n",
        "        roi[:,:] = (0, 0, 255)\n",
        "        cv2.putText(frame, \"Warning: Object in blind spot!\", (100,100), cv2.FONT_HERSHEY_SIMPLEX, 1, (0,0,255), 2)\n",
        "    else:\n",
        "        roi[:,:] = (0, 255, 0)\n",
        "\n",
        "    # Display the frame\n",
        "    cv2.imshow(\"Blind Spot Monitor\", frame)\n",
        "\n",
        "    # Exit the loop if the 'q' key is pressed\n",
        "    if cv2.waitKey(1) & 0xFF == ord('q'):\n",
        "        break\n",
        "\n",
        "# Release the camera and close the window\n",
        "cap.release()\n",
        "cv2.destroyAllWindows()\n"
      ]
    },
    
   
    {
      "cell_type": "markdown",
      "metadata": {},
      "source": []
    }
  ],
  "metadata": {
    "colab": {
      "provenance": []
    },
    "kernelspec": {
      "display_name": "Python 3",
      "language": "python",
      "name": "python3"
    },
    "language_info": {
      "name": "python",
      "version": "3.9.5 (tags/v3.9.5:0a7dcbd, May  3 2021, 17:27:52) [MSC v.1928 64 bit (AMD64)]"
    },
    "vscode": {
      "interpreter": {
        "hash": "fbe58ca63fe33f9eeae9e71d10368d2b4a57f2b1b395836210cc60d362c66949"
      }
    }
  },
  "nbformat": 4,
  "nbformat_minor": 0
}
